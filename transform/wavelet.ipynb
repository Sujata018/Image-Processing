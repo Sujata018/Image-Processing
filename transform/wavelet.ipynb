{
 "cells": [
  {
   "cell_type": "code",
   "execution_count": 2,
   "metadata": {},
   "outputs": [],
   "source": [
    "import sys\n",
    "import numpy as np\n",
    "import cv2 as cv\n",
    "from matplotlib import pyplot as plt"
   ]
  },
  {
   "cell_type": "code",
   "execution_count": 3,
   "metadata": {},
   "outputs": [],
   "source": [
    "def convolute(signal,filter,correlate=False):\n",
    "    '''\n",
    "    This function performs correlation of the signal with filter, if correlation = True\n",
    "    Otherwise it performs convolution.\n",
    "    '''\n",
    "    n=signal.shape[0]\n",
    "    m=filter.shape[0]\n",
    "    if n==0:\n",
    "        sys.exit('Exit from convolute: empty signal.')\n",
    "    if m==0:\n",
    "        sys.exit('Exit from convolute: empty filter.')\n",
    "    if m>n:\n",
    "        return None\n",
    "    \n",
    "    if correlate == False:\n",
    "        filter=filter[::-1]\n",
    "        iterations=n\n",
    "        signal=np.hstack([signal,signal])\n",
    "    else:\n",
    "        iterations=n-m+1\n",
    "    \n",
    "    result=np.zeros(iterations)\n",
    "    for i in range(iterations):\n",
    "        result[i]=np.sum(signal[i:i+m]*filter)\n",
    "    return result"
   ]
  },
  {
   "cell_type": "code",
   "execution_count": 4,
   "metadata": {},
   "outputs": [],
   "source": [
    "def getHaar(length):\n",
    "    '''\n",
    "    Creates a Haar filter\n",
    "    '''\n",
    "    if length%2==0:\n",
    "        magnitude=1/np.sqrt(length)\n",
    "        haar=np.ones(length)\n",
    "        haar[::2]=-1\n",
    "        haar *= magnitude\n",
    "    else:\n",
    "        sys.exit('Exit from getHaar: can not create Haar series with odd length '+str(length))\n",
    "    return haar"
   ]
  },
  {
   "cell_type": "code",
   "execution_count": 5,
   "metadata": {},
   "outputs": [],
   "source": [
    "def getFilters():\n",
    "    '''\n",
    "    Create a Haar and a scalar filter.\n",
    "    '''\n",
    "    haar=getHaar(2)\n",
    "    scalar=np.copy(haar)\n",
    "    scalar[::2] *= (-1)\n",
    "    \n",
    "    return haar,scalar[::-1]"
   ]
  },
  {
   "cell_type": "code",
   "execution_count": 27,
   "metadata": {},
   "outputs": [],
   "source": [
    "def rowConvolve(img,filter):\n",
    "    '''\n",
    "    Correlate each row of an umage with a filter\n",
    "    '''\n",
    "    r=img.shape[0]\n",
    "    for row in range(r):\n",
    "        tempRow=convolute(img[row],filter,True)[::2]\n",
    "        if row == 0:\n",
    "            tempimg=tempRow[:]\n",
    "        else:\n",
    "            tempimg=np.vstack([tempimg,tempRow])\n",
    "    return tempimg"
   ]
  },
  {
   "cell_type": "code",
   "execution_count": 28,
   "metadata": {},
   "outputs": [],
   "source": [
    "def colConvolve(img,filter):\n",
    "    '''\n",
    "    Correlate each column of an umage with a filter\n",
    "    '''\n",
    "    c=img.shape[1]\n",
    "    for col in range(c):\n",
    "        temp=convolute(img[:,col],filter,True)[::2]\n",
    "        temp=temp.reshape(temp.shape[0],1)\n",
    "        if col == 0:\n",
    "            tempimg=temp[:,:]\n",
    "        else:\n",
    "            tempimg=np.hstack([tempimg,temp])\n",
    "    return tempimg"
   ]
  },
  {
   "cell_type": "code",
   "execution_count": 8,
   "metadata": {},
   "outputs": [],
   "source": [
    "def convolveLevelImage2D(img,rowFilter,colFilter):\n",
    "    '''\n",
    "    Correlate a 2D image\n",
    "    '''\n",
    "    temp=rowConvolve(img,rowFilter)\n",
    "    return colConvolve(temp,colFilter)"
   ]
  },
  {
   "cell_type": "code",
   "execution_count": 29,
   "metadata": {},
   "outputs": [],
   "source": [
    "def getWavelets(img):\n",
    "    '''\n",
    "    Create four wavelets for an input image\n",
    "    '''\n",
    "    wfilter,sfilter=getFilters()    # wavelet filter as Haar function -1,+1\n",
    "\n",
    "    ## HH wavelet\n",
    "    HH=convolveLevelImage2D(img,wfilter,wfilter)\n",
    "    ## HL wavelet\n",
    "    HL=convolveLevelImage2D(img,wfilter,sfilter)\n",
    "    ## LH wavelet\n",
    "    LH=convolveLevelImage2D(img,sfilter,wfilter)\n",
    "    ## LL wavelet\n",
    "    LL=convolveLevelImage2D(img,sfilter,sfilter)\n",
    "    \n",
    "    return np.dstack([LL,LH,HL,HH])"
   ]
  },
  {
   "cell_type": "code",
   "execution_count": 34,
   "metadata": {},
   "outputs": [],
   "source": [
    "def showResults(img,oimg,rimg):\n",
    "    '''\n",
    "    Plot original, wavelets and reconstructed images.\n",
    "    '''\n",
    "    plt.clf()\n",
    "    \n",
    "    plt.subplot(131)\n",
    "    plt.imshow(img,cmap='gray')\n",
    "    plt.title('Original')\n",
    "    plt.axis('off')\n",
    "    \n",
    "    plt.subplot(132)\n",
    "    plt.imshow(oimg,cmap='gray')\n",
    "    plt.title('Wavelets')\n",
    "    plt.axis('off')\n",
    "    \n",
    "    plt.subplot(133)\n",
    "    plt.imshow(rimg,cmap='gray')\n",
    "    plt.title('Reconstructed')\n",
    "    plt.axis('off')\n",
    "    \n",
    "    plt.savefig('wavelets.jpg')   "
   ]
  },
  {
   "cell_type": "code",
   "execution_count": 30,
   "metadata": {},
   "outputs": [],
   "source": [
    "def treeWaveletAnalysis(img,level):\n",
    "    oimg=np.copy(img)\n",
    "    iimg=np.copy(img)\n",
    "    cLevel=1\n",
    "    while cLevel<=level and iimg.shape[0]>1 and iimg.shape[1]>1:\n",
    "        wavelets=getWavelets(iimg)\n",
    "        wavelets=np.rint(wavelets)\n",
    "        r,c,_=wavelets.shape\n",
    "        oimg[:r,:c]=wavelets[:,:,0]\n",
    "        oimg[:r,c:2*c]=wavelets[:,:,1]\n",
    "        oimg[r:2*r,:c]=wavelets[:,:,2]\n",
    "        oimg[r:2*r,c:2*c]=wavelets[:,:,3]\n",
    "        iimg=wavelets[:,:,0]\n",
    "        cLevel += 1\n",
    "    return oimg"
   ]
  },
  {
   "cell_type": "code",
   "execution_count": 72,
   "metadata": {},
   "outputs": [],
   "source": [
    "def createPacketWLImage(pimg,lid,hid,wstack,x,y):\n",
    "    r,c,_=wstack.shape\n",
    "    rid=hid-lid+1\n",
    "\n",
    "    if rid<=4:\n",
    "        pimg[x:x+r,y:y+c]=wstack[:,:,lid]\n",
    "        pimg[x:x+r,y+c:y+2*c]=wstack[:,:,lid+1]\n",
    "        pimg[x+r:x+2*r,y:y+c]=wstack[:,:,lid+2]\n",
    "        pimg[x+r:x+2*r,y+c:y+2*c]=wstack[:,:,lid+3]\n",
    "    else:\n",
    "        rid //= 4\n",
    "        row_width=rid*r//2\n",
    "        col_width=rid*c//2\n",
    "        pimg=createPacketWLImage(pimg,lid,lid+rid-1,wstack,x,y)\n",
    "        pimg=createPacketWLImage(pimg,lid+rid,lid+2*rid-1,wstack,x,y+col_width)\n",
    "        pimg=createPacketWLImage(pimg,lid+2*rid,lid+3*rid-1,wstack,x+row_width,y)\n",
    "        pimg=createPacketWLImage(pimg,lid+3*rid,hid,wstack,x+row_width,y+col_width)\n",
    "\n",
    "    return pimg"
   ]
  },
  {
   "cell_type": "code",
   "execution_count": 71,
   "metadata": {},
   "outputs": [],
   "source": [
    "def packetWaveletAnalysis(img,level):\n",
    "    pimg=np.copy(img)\n",
    "    stack=np.copy(img).reshape(img.shape[0],img.shape[0],1)\n",
    "    cLevel=1\n",
    "\n",
    "    while cLevel<=level and stack.shape[0]>1 and stack.shape[1]>1:\n",
    "        _,_,h=stack.shape\n",
    "        for w in range(h):\n",
    "            wavelets=np.rint(getWavelets(stack[:,:,w]))\n",
    "            \n",
    "            if w==0:\n",
    "                waveletStack=np.copy(wavelets)\n",
    "            else:\n",
    "                waveletStack=np.dstack([waveletStack,wavelets])\n",
    "        cLevel += 1\n",
    "        stack=np.copy(waveletStack)    \n",
    "        \n",
    "    _,_,h=waveletStack.shape\n",
    "    pimg=createPacketWLImage(pimg,0,h-1,waveletStack,0,0)\n",
    "   \n",
    "    return pimg"
   ]
  },
  {
   "cell_type": "code",
   "execution_count": 14,
   "metadata": {},
   "outputs": [],
   "source": [
    "def inverseWavelet(image,rowfilter,columnfilter):\n",
    "    r,c=image.shape\n",
    "    haar,scalar=getFilters()\n",
    "    reconImage=np.zeros([2*r,2*c])\n",
    "    for i in range(c):\n",
    "        esignal=np.zeros(2*r)\n",
    "        for j in range(r):\n",
    "            esignal[2*j+1]=image[:,i][j]\n",
    "        if columnfilter == 0:\n",
    "            reconImage[:,2*i+1]=convolute(esignal,haar)\n",
    "        else:\n",
    "            reconImage[:,2*i+1]=convolute(esignal,scalar)\n",
    "    for i in range(2*r):\n",
    "        if rowfilter == 0:\n",
    "            reconImage[i]=convolute(reconImage[i],haar)\n",
    "        else:\n",
    "            reconImage[i]=convolute(reconImage[i],scalar)\n",
    "    return reconImage"
   ]
  },
  {
   "cell_type": "code",
   "execution_count": 15,
   "metadata": {},
   "outputs": [],
   "source": [
    "def reconstruct4(LL,LH,HL,HH=None):\n",
    "    \n",
    "    img1=inverseWavelet(LL,1,1)\n",
    "    img2=inverseWavelet(LH,1,0)\n",
    "    img3=inverseWavelet(HL,0,1)\n",
    "    if HH is None:\n",
    "        img4=np.zeros(img1.shape)\n",
    "    else:\n",
    "        img4=inverseWavelet(HH,0,0)\n",
    "\n",
    "    return img1+img2+img3+img4"
   ]
  },
  {
   "cell_type": "code",
   "execution_count": 68,
   "metadata": {},
   "outputs": [],
   "source": [
    "def reconstruct(oimg,level,atype=0,cLabel=1):\n",
    "\n",
    "    r,c=oimg.shape\n",
    "    LL=oimg[:r//2,:c//2]\n",
    "    LH=oimg[:r//2,c//2:]\n",
    "    HL=oimg[r//2:,:c//2]\n",
    "    HH=oimg[r//2:,c//2:]\n",
    "    if cLabel<level:\n",
    "        LL=reconstruct(LL,level,atype,cLabel+1)\n",
    "        if atype > 0:\n",
    "            LH=reconstruct(LH,level,atype,cLabel+1)\n",
    "            HL=reconstruct(HL,level,atype,cLabel+1)\n",
    "            HH=reconstruct(HH,level,atype,cLabel+1)\n",
    "    if atype >0:\n",
    "        fimg=reconstruct4(LL,LH,HL,HH)\n",
    "    else:\n",
    "        fimg=reconstruct4(LL,LH,HL)\n",
    "    return fimg"
   ]
  },
  {
   "cell_type": "code",
   "execution_count": 75,
   "metadata": {},
   "outputs": [
    {
     "data": {
      "image/png": "[encoded data removed]",
      "text/plain": [
       "<Figure size 432x288 with 3 Axes>"
      ]
     },
     "metadata": {
      "needs_background": "light"
     },
     "output_type": "display_data"
    }
   ],
   "source": [
    "if __name__=='__main__':\n",
    "    '''\n",
    "    This program does wavelet analysis of an input image,\n",
    "    and then reconstructs it back.\n",
    "    User can modify following parameters:\n",
    "    \n",
    "    img=cv.imread('name of the image')   : to read other images\n",
    "    atype   : 0 for tree wavelet , 1 for packet wavelet analysis\n",
    "    level   : >0, levels of wavelet analysis is required\n",
    "    '''\n",
    "    img=np.array([[0,1,2,3],[4,5,6,7],[8,9,10,11],[12,13,14,15]])\n",
    "    atype=0          # 0 : tree wavelet analysis, 1: packet wavelet analysis\n",
    "    level=2          # level upto which wavelet analysis to be done\n",
    " \n",
    "    if atype==0:\n",
    "        oimg=treeWaveletAnalysis(img,level)\n",
    "    else:\n",
    "        oimg=packetWaveletAnalysis(img,level)\n",
    "    rimg=reconstruct(oimg,level,atype)\n",
    "    \n",
    "    showResults(img,oimg,rimg)"
   ]
  },
  {
   "cell_type": "code",
   "execution_count": null,
   "metadata": {},
   "outputs": [],
   "source": []
  }
 ],
 "metadata": {
  "kernelspec": {
   "display_name": "Python 3",
   "language": "python",
   "name": "python3"
  },
  "language_info": {
   "codemirror_mode": {
    "name": "ipython",
    "version": 3
   },
   "file_extension": ".py",
   "mimetype": "text/x-python",
   "name": "python",
   "nbconvert_exporter": "python",
   "pygments_lexer": "ipython3",
   "version": "3.8.1"
  }
 },
 "nbformat": 4,
 "nbformat_minor": 4
}
