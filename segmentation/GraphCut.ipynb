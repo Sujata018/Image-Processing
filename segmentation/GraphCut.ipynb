{
 "cells": [
  {
   "cell_type": "code",
   "execution_count": 1,
   "metadata": {
    "id": "7OWX8g8AkJHI"
   },
   "outputs": [],
   "source": [
    "import numpy as np\n",
    "float_formatter=lambda x: \"%.3f\" % x\n",
    "np.set_printoptions(formatter={'float_kind':float_formatter})\n",
    "from skimage.io import imread\n",
    "from skimage.color import rgb2hsv\n",
    "from matplotlib import pyplot as plt\n",
    "from sklearn.cluster import SpectralClustering, KMeans"
   ]
  },
  {
   "cell_type": "code",
   "execution_count": 2,
   "metadata": {
    "id": "QRgvJ764kUPY"
   },
   "outputs": [],
   "source": [
    "numPartition=2         # number of classes in the segmented image\n",
    "maxDist=1              # in the graph of the image, add edge between pixels within distance maxDist \n",
    "                       # in this program, only maxDist=1 is used. If provided > 1 values, the distance will be calculated in one direction\n",
    "                       # only. e.g. if maxDist=2, then distance 2 in horizontal, vertical and diagonal directions will be considered,\n",
    "                       # but not 1 horizontal+1diagonal. \n",
    "                       # This variable is kept for future implementation of distance calculation based on 8 neighborhood.\n",
    "varianceHue=0.001      # within class variance of hue\n",
    "varianceIntensity=2    # within class variance of intensity\n",
    "varianceDistance=5     # within class variance of distance"
   ]
  },
  {
   "cell_type": "code",
   "execution_count": 3,
   "metadata": {
    "id": "Wo-DC97qkb2i"
   },
   "outputs": [],
   "source": [
    "def createImage(dim):\n",
    "    '''\n",
    "    Create an image with dimensions passed through the argument\n",
    "    '''\n",
    "    img=np.zeros(dim)\n",
    "    r,c,_=dim\n",
    "   \n",
    "    for i in range(r):\n",
    "      for j in range(c):\n",
    "        if j>(c//2):\n",
    "          img[i,j,0]=1\n",
    "        else:        \n",
    "          img[i,j,2]=1\n",
    "    \n",
    "    return img"
   ]
  },
  {
   "cell_type": "code",
   "execution_count": 4,
   "metadata": {
    "id": "tZnHu2SbkqN9"
   },
   "outputs": [],
   "source": [
    "def getVectorDistance(img,direction=0,dist=1):\n",
    "    '''\n",
    "    Calculates the distance between two neighboring pixels in an image, in the vector form (after applying stacking operator)\n",
    "    inputs:\n",
    "        img       -> a single channel of image\n",
    "        dist      -> distance between the vertices in the image\n",
    "                     default is 1\n",
    "        direction -> direction of neighborhood\n",
    "                     0 : horizontal\n",
    "                     1 : vertical\n",
    "                     2 : diagonal\n",
    "                     3 : cross diagonal\n",
    "                     Default is 0 (horizontal).\n",
    "  \n",
    "    '''\n",
    "    c=img.shape[1]              # get number of columns of the image matrix\n",
    "    \n",
    "    ## calculate distance between the pixels in the vector form of the image.\n",
    "    if direction == 1:          # in vertical direction          \n",
    "        d=dist*c \n",
    "    elif direction == 2:        # in diagonal direction\n",
    "        d=dist*(c+1)\n",
    "    elif direction == 3:        # in cross-diagonal direction\n",
    "        d=dist*(c-1)\n",
    "    else:                       # in horizontal direction\n",
    "        d=dist\n",
    "    return c,d"
   ]
  },
  {
   "cell_type": "code",
   "execution_count": 5,
   "metadata": {
    "id": "iVs4Ly1qks_h"
   },
   "outputs": [],
   "source": [
    "def calcChannelWeight(img,dist,variance,hue=False,direction=0):\n",
    "    '''\n",
    "    Calculates the weights, corresponding to the channel passed in input, of edges of the image graph.\n",
    "    inputs:\n",
    "        img       -> a single channel of image, generally hue or intensity\n",
    "        dist      -> distance between the vertices \n",
    "        variance  -> variance of the channel accepted for similar vertices. \n",
    "        hue       -> set to True if the input channel is a hue channel, or else set to False.\n",
    "                     Used to eliminate discontinuity, hence high differences in hue at 0 degree and 360 degrees.\n",
    "                     default is False.\n",
    "        direction -> direction of neighborhood. i.e. calculate weights of horizontal/vertical/diagonal/cross-diagonal edges.\n",
    "                     0 : horizontal\n",
    "                     1 : vertical\n",
    "                     2 : diagonal\n",
    "                     3 : cross diagonal\n",
    "                     Default is 0 (horizontal).\n",
    "    output :\n",
    "        img2      -> An array of dimension n-2, where n is the number of pixels in input img\n",
    "                     values popuated as (x1 - x2)^2/variance,\n",
    "                     where x1 corresponds to each pixel in img, and x2 is the pixel d steps down to it. \n",
    "                     This vector will be set diagonally to the adjacency matrix, after adding elements from all channels.\n",
    "    '''\n",
    "    c,d=getVectorDistance(img,direction,dist)\n",
    "        \n",
    "    img0=img.flatten()          # Applying stacking operator to get a single vector from the image matrix \n",
    "    img1=img0[:(-1*d)]          # getting x2 to calculate x1-x2\n",
    "    img0=img0[d:]               # getting rid of d first pixels from x1 as x1-d th position is out of image border for them \n",
    "    img2=np.abs(img0-img1)      # x1-x2\n",
    "\n",
    "    if hue:                     # adjust hue difference to eliminate discontinuity at 1 (360 degree)\n",
    "        img2=np.where(img2>0.5,1-img2,img2)\n",
    "\n",
    "    img2=np.sqrt(img2)/variance # Doing square root to increase effect of the hue/intensity channel, as range is [0,1] \n",
    "    \n",
    "    for d in range(1,dist+1):\n",
    "        if direction in [0,2]:  # for horizontal and diagonal neighbothood, \n",
    "            img2[c-d::c]=0      #  setting x1-x2 = 0 for right most columns of the input image\n",
    "        elif direction == 3:    # for cross-diagonal neighborhood,\n",
    "            img2[c+d-1::c]=0    #  setting x1-x2 = 0 for left most columns of the input image\n",
    "       \n",
    "    return img2                 # return the vector"
   ]
  },
  {
   "cell_type": "code",
   "execution_count": 6,
   "metadata": {
    "id": "WYm4k0-WkxIu"
   },
   "outputs": [],
   "source": [
    "def calculateWeight(imghsv,adjMatrix,dist=1,direction=0):\n",
    "    '''\n",
    "    Calculates the weights of the edges of graph for an image\n",
    "    for pixels left and right of each pixel (in horizontal direction)\n",
    "    and populates corresponding cell in the adjacency matrix.\n",
    "    inputs:\n",
    "        imghsv    -> input image in hsv format\n",
    "        adjMatrix -> adjacency matrix (intermittent), to be populated\n",
    "        dist      -> specifies the distance between the pixels for \n",
    "                     which edge weight to be calculated\n",
    "                     (default=1).\n",
    "        direction -> direction of neighborhood. i.e. calculate weights of horizontal/vertical/diagonal/cross-diagonal edges.\n",
    "                     0 : horizontal\n",
    "                     1 : vertical\n",
    "                     2 : diagonal\n",
    "                     3 : cross diagonal\n",
    "                     Default is 0 (horizontal).\n",
    "    output: \n",
    "        adjMatrix -> The adjacency matrix updated with the edge weights for the direction of neighborhood of the image graph\n",
    "    '''\n",
    "    global varianceHue,varianceIntensity\n",
    "    \n",
    "    hue=calcChannelWeight(imghsv[:,:,0],dist,varianceHue,True,direction) \n",
    "                                                            # calculate weights of the adjacency matrix due to hue\n",
    "    intensity=calcChannelWeight(imghsv[:,:,2],dist,varianceIntensity,False,direction) \n",
    "                                                            # calculate weights of the adjacency matrix due to intensity\n",
    "    distance=dist/varianceDistance                          # calculate weigt due to distance\n",
    "    print('hue,intensity,distance range',np.min(hue+intensity+distance),np.max(hue+intensity+distance))\n",
    "    print('distance=',distance)\n",
    "    weight=np.exp(-1*(hue+intensity+distance))              # final weight of the edge \n",
    "                                                            # edge weight = exp(-(hue weight+intensity weight+ distance weight))\n",
    "    c,d=getVectorDistance(img,direction,dist)   \n",
    "    np.fill_diagonal(adjMatrix[:(-1)*d,d:],weight)          # fill weights in adjacency matrix cells (vertex1,vertex2) \n",
    "    np.fill_diagonal(adjMatrix[d:,:(-1)*d],weight)          # fill weights in adjacency matrix cells (vertex2,vertex1)\n",
    "    \n",
    "    return adjMatrix"
   ]
  },
  {
   "cell_type": "code",
   "execution_count": 7,
   "metadata": {
    "id": "Q0LCWHoJk0qY"
   },
   "outputs": [],
   "source": [
    "def createAdjMatrix(img):\n",
    "    '''\n",
    "    Create adjacency matrix for the graph of the image\n",
    "    '''\n",
    "    global maxDist\n",
    "    \n",
    "    r,c,_=img.shape\n",
    "    num_vertices=r*c                                        # Calculate dimensions of the adjacency matrix\n",
    "    adjMatrix=np.zeros([num_vertices,num_vertices])         # Initialise adjacency matrix to all zeros\n",
    "                              \n",
    "    imgh=rgb2hsv(img[:,:,:3])                               # Convert image to HSV format to seperate hue and intensity values\n",
    "    \n",
    "    for d in range(1,maxDist+1):                            # for all distances <= maximum distance considered\n",
    "        adjMatrix=calculateWeight(imgh,adjMatrix,d)         # get weights of the horizontal neighborhood edges\n",
    "        adjMatrix=calculateWeight(imgh,adjMatrix,d,1)       # get weights of the vertical neighborhood edges\n",
    "        adjMatrix=calculateWeight(imgh,adjMatrix,d,2)       # get weights of the diagonal neighborhood edges\n",
    "        adjMatrix=calculateWeight(imgh,adjMatrix,d,3)       # get weights of the cross diagonal neighborhood edges\n",
    "    return adjMatrix"
   ]
  },
  {
   "cell_type": "code",
   "execution_count": 8,
   "metadata": {
    "id": "qLtUKIHTk4Os"
   },
   "outputs": [],
   "source": [
    "def createDiagonal(matrix):\n",
    "    '''\n",
    "    Create diagonal matrix of the graph of an image\n",
    "    '''\n",
    "    diagVector=np.sum(matrix,axis=0)\n",
    "    diagMatrix=np.zeros(matrix.shape)                      # Initialise diagonal matrix to all zeros\n",
    "    np.fill_diagonal(diagMatrix,diagVector)                # Fill diagonal of the matrix with degress of each vertex\n",
    " \n",
    "    return diagMatrix"
   ]
  },
  {
   "cell_type": "code",
   "execution_count": 9,
   "metadata": {
    "colab": {
     "base_uri": "https://localhost:8080/",
     "height": 264
    },
    "id": "ZLkYElIck75M",
    "outputId": "c1797afb-4ca6-4447-b5a6-04c7a635c995"
   },
   "outputs": [
    {
     "name": "stdout",
     "output_type": "stream",
     "text": [
      "hue,intensity,distance range 0.2 577.5502691896259\n",
      "distance= 0.2\n",
      "hue,intensity,distance range 0.2 0.2\n",
      "distance= 0.2\n",
      "hue,intensity,distance range 0.2 577.5502691896259\n",
      "distance= 0.2\n",
      "hue,intensity,distance range 0.2 577.5502691896259\n",
      "distance= 0.2\n",
      "eigen values  [-0.000 0.001 0.001 ... 1.526 1.526 1.526]\n"
     ]
    },
    {
     "data": {
      "image/png": "[encoded data removed]",
      "text/plain": [
       "<Figure size 432x288 with 4 Axes>"
      ]
     },
     "metadata": {
      "needs_background": "light"
     },
     "output_type": "display_data"
    }
   ],
   "source": [
    "if __name__=='__main__':\n",
    "  '''\n",
    "  This program creates a color image, and segments it to given number of classes\n",
    "  based on spectral clustering algorithm. \n",
    "  '''\n",
    "  global numPartition\n",
    "\n",
    "  # Create image for segmentation \n",
    "  img=createImage([70,70,3])\n",
    "\n",
    "  # Build adjacency matrix for the Graph of the image \n",
    "  adjMatrix=createAdjMatrix(img)\n",
    "\n",
    "  # Build diagonal matrix for the Graph of the image \n",
    "  diagMatrix=createDiagonal(adjMatrix)\n",
    "\n",
    "  # Calculate laplacian matrix L=D-W  \n",
    "  laplacianMatrix=diagMatrix-adjMatrix\n",
    "\n",
    "  # Segment image\n",
    "  LD=np.matmul(np.linalg.inv(diagMatrix),laplacianMatrix) # inv(D)*L\n",
    "  eigVals, eigVecs = np.linalg.eig(LD)                    # calculate eigen values and vectors \n",
    "  \n",
    "  idx=np.argsort(eigVals)                                 # sort eigen values and vectors in ascending order\n",
    "  eigVals=eigVals[idx]\n",
    "  eigVecs=eigVecs[:,idx]\n",
    "\n",
    "  print('eigen values ',eigVals)\n",
    "  U=np.array(eigVecs[:,1:numPartition+1])                 # reducing dimension of the eigenvector matrix to numPartition\n",
    "  try:\n",
    "    U.shape[1]\n",
    "  except:\n",
    "    U=U.reshape(U.size,1)                                 # reshaping the matrix as required by K Means function\n",
    "\n",
    "  km=KMeans(init='k-means++',n_clusters=numPartition)     # clustering rows of eigenvector matrix using K Means\n",
    "  km.fit(U)\n",
    "\n",
    "  Y=km.labels_[:]                                         # segment image vector based on k means segmentation of eigenvector rows \n",
    "  simg=Y.reshape(img.shape[:2])                           # reshape vector to 2-D image\n",
    "\n",
    "  # Plot the original image, segmented image, adjacency and diagonal matrices\n",
    "  plt.clf()\n",
    "\n",
    "  plt.subplot(2,2,1)                                      # original image\n",
    "  plt.imshow(img[:,:,:3])\n",
    "  plt.title('Original')\n",
    "  plt.axis('off')\n",
    "\n",
    "  plt.subplot(2,2,2)                                      # segmented image                            \n",
    "  plt.imshow(simg)\n",
    "  plt.title('Segmented('+str(numPartition)+')')\n",
    "  plt.axis('off')\n",
    "\n",
    "  plt.subplot(2,2,3)                                      # adjacency matrix\n",
    "  plt.imshow(adjMatrix)\n",
    "  plt.title('Adjucency')\n",
    "  plt.axis('off')\n",
    "\n",
    "  plt.subplot(2,2,4)                                      # diagonal matrix\n",
    "  plt.imshow(diagMatrix)\n",
    "  plt.title('Diagonal')\n",
    "  plt.axis('off')\n",
    "\n",
    "  plt.savefig('Spectral_Clustering_Results.jpg')\n",
    "  plt.show()"
   ]
  }
 ],
 "metadata": {
  "colab": {
   "collapsed_sections": [],
   "name": "GraphCut.ipynb",
   "provenance": []
  },
  "kernelspec": {
   "display_name": "Python 3",
   "language": "python",
   "name": "python3"
  },
  "language_info": {
   "codemirror_mode": {
    "name": "ipython",
    "version": 3
   },
   "file_extension": ".py",
   "mimetype": "text/x-python",
   "name": "python",
   "nbconvert_exporter": "python",
   "pygments_lexer": "ipython3",
   "version": "3.8.1"
  }
 },
 "nbformat": 4,
 "nbformat_minor": 1
}
